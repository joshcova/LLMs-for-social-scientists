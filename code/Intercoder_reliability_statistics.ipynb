{
  "nbformat": 4,
  "nbformat_minor": 0,
  "metadata": {
    "colab": {
      "provenance": [],
      "authorship_tag": "ABX9TyN7yr8DgNbsuVbrJtvvZDeH",
      "include_colab_link": true
    },
    "kernelspec": {
      "name": "python3",
      "display_name": "Python 3"
    },
    "language_info": {
      "name": "python"
    }
  },
  "cells": [
    {
      "cell_type": "markdown",
      "metadata": {
        "id": "view-in-github",
        "colab_type": "text"
      },
      "source": [
        "<a href=\"https://colab.research.google.com/github/joshcova/LLMs-for-social-scientists/blob/main/code/Intercoder_reliability_statistics.ipynb\" target=\"_parent\"><img src=\"https://colab.research.google.com/assets/colab-badge.svg\" alt=\"Open In Colab\"/></a>"
      ]
    },
    {
      "cell_type": "markdown",
      "source": [
        "# A primer for the use of classifiers and large language models in social science research"
      ],
      "metadata": {
        "id": "sk5MAMAhFlL4"
      }
    },
    {
      "cell_type": "markdown",
      "source": [
        "In this document, we will showcase how to implement a coding pipeline which uses classifiers/LLMs in practice. Feel free to re-use and share!\n",
        "\n",
        "Load the necessary libraries.\n",
        "\n",
        "Note that if you have not installed these libraries this code will not work, you will first have to `pip install` the libraries in a terminal window."
      ],
      "metadata": {
        "id": "ZRzXu8NkFoXg"
      }
    },
    {
      "cell_type": "code",
      "source": [
        "! pip install AugmentedSocialScientist\n",
        "! pip install krippendorff"
      ],
      "metadata": {
        "id": "DyW-SIp-FvUB"
      },
      "execution_count": null,
      "outputs": []
    },
    {
      "cell_type": "code",
      "source": [
        "import pandas as pd\n",
        "import numpy as np\n",
        "import matplotlib.pyplot as plt\n",
        "from sklearn.metrics import cohen_kappa_score\n",
        "import krippendorff\n",
        "import datetime\n",
        "import seaborn as sns\n",
        "from AugmentedSocialScientist.models import Bert\n"
      ],
      "metadata": {
        "id": "XkbirAKCFsFz"
      },
      "execution_count": 3,
      "outputs": []
    },
    {
      "cell_type": "code",
      "source": [
        "df_all = pd.read_csv(\"https://raw.githubusercontent.com/joshcova/LLMs-for-social-scientists/main/data/df_grouped_cbi_UK.csv\")"
      ],
      "metadata": {
        "id": "mbrhn8nsF9oy"
      },
      "execution_count": 6,
      "outputs": []
    },
    {
      "cell_type": "markdown",
      "source": [
        "## Inspecting the data\n",
        "\n",
        "As for any data analysis exercise, let us begin by inspecting the data that we are working with.\n",
        "\n",
        "We can do this by printing out the first few rows of the dataframe."
      ],
      "metadata": {
        "id": "Z6i6yxNzGmnV"
      }
    },
    {
      "cell_type": "code",
      "source": [
        "df_all.head()"
      ],
      "metadata": {
        "colab": {
          "base_uri": "https://localhost:8080/",
          "height": 226
        },
        "id": "dc7JJlDlGigc",
        "outputId": "28be917d-b8b7-41fd-a7eb-e274c940209f"
      },
      "execution_count": 7,
      "outputs": [
        {
          "output_type": "execute_result",
          "data": {
            "text/plain": [
              "   id date_short               party       party_2                       name  \\\n",
              "0   1  6/29/1972        Labour Party        labour                 Mr. Wilson   \n",
              "1   2  2/29/1972        Labour Party        labour            Mr. Tam Dalyell   \n",
              "2   3  2/13/1973        Labour Party        labour            Mr. Tam Dalyell   \n",
              "3   4  3/12/1975        Labour Party        labour  Sir Brandon Rhys Williams   \n",
              "4   5  2/25/1976  Conservative Party  conservative                 Mr. Nelson   \n",
              "\n",
              "                                               sents  \n",
              "0  special drawing rights were a step in the righ...  \n",
              "1  he raises the question of the accepting houses...  \n",
              "2  that issue concerns the role of the bank of en...  \n",
              "3  where does the european fund fit in? and do we...  \n",
              "4  if i correctly judge the enormity of the words...  "
            ],
            "text/html": [
              "\n",
              "  <div id=\"df-91bfa4b3-db54-4001-8578-c63f4ebf018a\" class=\"colab-df-container\">\n",
              "    <div>\n",
              "<style scoped>\n",
              "    .dataframe tbody tr th:only-of-type {\n",
              "        vertical-align: middle;\n",
              "    }\n",
              "\n",
              "    .dataframe tbody tr th {\n",
              "        vertical-align: top;\n",
              "    }\n",
              "\n",
              "    .dataframe thead th {\n",
              "        text-align: right;\n",
              "    }\n",
              "</style>\n",
              "<table border=\"1\" class=\"dataframe\">\n",
              "  <thead>\n",
              "    <tr style=\"text-align: right;\">\n",
              "      <th></th>\n",
              "      <th>id</th>\n",
              "      <th>date_short</th>\n",
              "      <th>party</th>\n",
              "      <th>party_2</th>\n",
              "      <th>name</th>\n",
              "      <th>sents</th>\n",
              "    </tr>\n",
              "  </thead>\n",
              "  <tbody>\n",
              "    <tr>\n",
              "      <th>0</th>\n",
              "      <td>1</td>\n",
              "      <td>6/29/1972</td>\n",
              "      <td>Labour Party</td>\n",
              "      <td>labour</td>\n",
              "      <td>Mr. Wilson</td>\n",
              "      <td>special drawing rights were a step in the righ...</td>\n",
              "    </tr>\n",
              "    <tr>\n",
              "      <th>1</th>\n",
              "      <td>2</td>\n",
              "      <td>2/29/1972</td>\n",
              "      <td>Labour Party</td>\n",
              "      <td>labour</td>\n",
              "      <td>Mr. Tam Dalyell</td>\n",
              "      <td>he raises the question of the accepting houses...</td>\n",
              "    </tr>\n",
              "    <tr>\n",
              "      <th>2</th>\n",
              "      <td>3</td>\n",
              "      <td>2/13/1973</td>\n",
              "      <td>Labour Party</td>\n",
              "      <td>labour</td>\n",
              "      <td>Mr. Tam Dalyell</td>\n",
              "      <td>that issue concerns the role of the bank of en...</td>\n",
              "    </tr>\n",
              "    <tr>\n",
              "      <th>3</th>\n",
              "      <td>4</td>\n",
              "      <td>3/12/1975</td>\n",
              "      <td>Labour Party</td>\n",
              "      <td>labour</td>\n",
              "      <td>Sir Brandon Rhys Williams</td>\n",
              "      <td>where does the european fund fit in? and do we...</td>\n",
              "    </tr>\n",
              "    <tr>\n",
              "      <th>4</th>\n",
              "      <td>5</td>\n",
              "      <td>2/25/1976</td>\n",
              "      <td>Conservative Party</td>\n",
              "      <td>conservative</td>\n",
              "      <td>Mr. Nelson</td>\n",
              "      <td>if i correctly judge the enormity of the words...</td>\n",
              "    </tr>\n",
              "  </tbody>\n",
              "</table>\n",
              "</div>\n",
              "    <div class=\"colab-df-buttons\">\n",
              "\n",
              "  <div class=\"colab-df-container\">\n",
              "    <button class=\"colab-df-convert\" onclick=\"convertToInteractive('df-91bfa4b3-db54-4001-8578-c63f4ebf018a')\"\n",
              "            title=\"Convert this dataframe to an interactive table.\"\n",
              "            style=\"display:none;\">\n",
              "\n",
              "  <svg xmlns=\"http://www.w3.org/2000/svg\" height=\"24px\" viewBox=\"0 -960 960 960\">\n",
              "    <path d=\"M120-120v-720h720v720H120Zm60-500h600v-160H180v160Zm220 220h160v-160H400v160Zm0 220h160v-160H400v160ZM180-400h160v-160H180v160Zm440 0h160v-160H620v160ZM180-180h160v-160H180v160Zm440 0h160v-160H620v160Z\"/>\n",
              "  </svg>\n",
              "    </button>\n",
              "\n",
              "  <style>\n",
              "    .colab-df-container {\n",
              "      display:flex;\n",
              "      gap: 12px;\n",
              "    }\n",
              "\n",
              "    .colab-df-convert {\n",
              "      background-color: #E8F0FE;\n",
              "      border: none;\n",
              "      border-radius: 50%;\n",
              "      cursor: pointer;\n",
              "      display: none;\n",
              "      fill: #1967D2;\n",
              "      height: 32px;\n",
              "      padding: 0 0 0 0;\n",
              "      width: 32px;\n",
              "    }\n",
              "\n",
              "    .colab-df-convert:hover {\n",
              "      background-color: #E2EBFA;\n",
              "      box-shadow: 0px 1px 2px rgba(60, 64, 67, 0.3), 0px 1px 3px 1px rgba(60, 64, 67, 0.15);\n",
              "      fill: #174EA6;\n",
              "    }\n",
              "\n",
              "    .colab-df-buttons div {\n",
              "      margin-bottom: 4px;\n",
              "    }\n",
              "\n",
              "    [theme=dark] .colab-df-convert {\n",
              "      background-color: #3B4455;\n",
              "      fill: #D2E3FC;\n",
              "    }\n",
              "\n",
              "    [theme=dark] .colab-df-convert:hover {\n",
              "      background-color: #434B5C;\n",
              "      box-shadow: 0px 1px 3px 1px rgba(0, 0, 0, 0.15);\n",
              "      filter: drop-shadow(0px 1px 2px rgba(0, 0, 0, 0.3));\n",
              "      fill: #FFFFFF;\n",
              "    }\n",
              "  </style>\n",
              "\n",
              "    <script>\n",
              "      const buttonEl =\n",
              "        document.querySelector('#df-91bfa4b3-db54-4001-8578-c63f4ebf018a button.colab-df-convert');\n",
              "      buttonEl.style.display =\n",
              "        google.colab.kernel.accessAllowed ? 'block' : 'none';\n",
              "\n",
              "      async function convertToInteractive(key) {\n",
              "        const element = document.querySelector('#df-91bfa4b3-db54-4001-8578-c63f4ebf018a');\n",
              "        const dataTable =\n",
              "          await google.colab.kernel.invokeFunction('convertToInteractive',\n",
              "                                                    [key], {});\n",
              "        if (!dataTable) return;\n",
              "\n",
              "        const docLinkHtml = 'Like what you see? Visit the ' +\n",
              "          '<a target=\"_blank\" href=https://colab.research.google.com/notebooks/data_table.ipynb>data table notebook</a>'\n",
              "          + ' to learn more about interactive tables.';\n",
              "        element.innerHTML = '';\n",
              "        dataTable['output_type'] = 'display_data';\n",
              "        await google.colab.output.renderOutput(dataTable, element);\n",
              "        const docLink = document.createElement('div');\n",
              "        docLink.innerHTML = docLinkHtml;\n",
              "        element.appendChild(docLink);\n",
              "      }\n",
              "    </script>\n",
              "  </div>\n",
              "\n",
              "\n",
              "<div id=\"df-16d16bc6-b7ed-4e45-bdeb-be0c15fedbd3\">\n",
              "  <button class=\"colab-df-quickchart\" onclick=\"quickchart('df-16d16bc6-b7ed-4e45-bdeb-be0c15fedbd3')\"\n",
              "            title=\"Suggest charts\"\n",
              "            style=\"display:none;\">\n",
              "\n",
              "<svg xmlns=\"http://www.w3.org/2000/svg\" height=\"24px\"viewBox=\"0 0 24 24\"\n",
              "     width=\"24px\">\n",
              "    <g>\n",
              "        <path d=\"M19 3H5c-1.1 0-2 .9-2 2v14c0 1.1.9 2 2 2h14c1.1 0 2-.9 2-2V5c0-1.1-.9-2-2-2zM9 17H7v-7h2v7zm4 0h-2V7h2v10zm4 0h-2v-4h2v4z\"/>\n",
              "    </g>\n",
              "</svg>\n",
              "  </button>\n",
              "\n",
              "<style>\n",
              "  .colab-df-quickchart {\n",
              "      --bg-color: #E8F0FE;\n",
              "      --fill-color: #1967D2;\n",
              "      --hover-bg-color: #E2EBFA;\n",
              "      --hover-fill-color: #174EA6;\n",
              "      --disabled-fill-color: #AAA;\n",
              "      --disabled-bg-color: #DDD;\n",
              "  }\n",
              "\n",
              "  [theme=dark] .colab-df-quickchart {\n",
              "      --bg-color: #3B4455;\n",
              "      --fill-color: #D2E3FC;\n",
              "      --hover-bg-color: #434B5C;\n",
              "      --hover-fill-color: #FFFFFF;\n",
              "      --disabled-bg-color: #3B4455;\n",
              "      --disabled-fill-color: #666;\n",
              "  }\n",
              "\n",
              "  .colab-df-quickchart {\n",
              "    background-color: var(--bg-color);\n",
              "    border: none;\n",
              "    border-radius: 50%;\n",
              "    cursor: pointer;\n",
              "    display: none;\n",
              "    fill: var(--fill-color);\n",
              "    height: 32px;\n",
              "    padding: 0;\n",
              "    width: 32px;\n",
              "  }\n",
              "\n",
              "  .colab-df-quickchart:hover {\n",
              "    background-color: var(--hover-bg-color);\n",
              "    box-shadow: 0 1px 2px rgba(60, 64, 67, 0.3), 0 1px 3px 1px rgba(60, 64, 67, 0.15);\n",
              "    fill: var(--button-hover-fill-color);\n",
              "  }\n",
              "\n",
              "  .colab-df-quickchart-complete:disabled,\n",
              "  .colab-df-quickchart-complete:disabled:hover {\n",
              "    background-color: var(--disabled-bg-color);\n",
              "    fill: var(--disabled-fill-color);\n",
              "    box-shadow: none;\n",
              "  }\n",
              "\n",
              "  .colab-df-spinner {\n",
              "    border: 2px solid var(--fill-color);\n",
              "    border-color: transparent;\n",
              "    border-bottom-color: var(--fill-color);\n",
              "    animation:\n",
              "      spin 1s steps(1) infinite;\n",
              "  }\n",
              "\n",
              "  @keyframes spin {\n",
              "    0% {\n",
              "      border-color: transparent;\n",
              "      border-bottom-color: var(--fill-color);\n",
              "      border-left-color: var(--fill-color);\n",
              "    }\n",
              "    20% {\n",
              "      border-color: transparent;\n",
              "      border-left-color: var(--fill-color);\n",
              "      border-top-color: var(--fill-color);\n",
              "    }\n",
              "    30% {\n",
              "      border-color: transparent;\n",
              "      border-left-color: var(--fill-color);\n",
              "      border-top-color: var(--fill-color);\n",
              "      border-right-color: var(--fill-color);\n",
              "    }\n",
              "    40% {\n",
              "      border-color: transparent;\n",
              "      border-right-color: var(--fill-color);\n",
              "      border-top-color: var(--fill-color);\n",
              "    }\n",
              "    60% {\n",
              "      border-color: transparent;\n",
              "      border-right-color: var(--fill-color);\n",
              "    }\n",
              "    80% {\n",
              "      border-color: transparent;\n",
              "      border-right-color: var(--fill-color);\n",
              "      border-bottom-color: var(--fill-color);\n",
              "    }\n",
              "    90% {\n",
              "      border-color: transparent;\n",
              "      border-bottom-color: var(--fill-color);\n",
              "    }\n",
              "  }\n",
              "</style>\n",
              "\n",
              "  <script>\n",
              "    async function quickchart(key) {\n",
              "      const quickchartButtonEl =\n",
              "        document.querySelector('#' + key + ' button');\n",
              "      quickchartButtonEl.disabled = true;  // To prevent multiple clicks.\n",
              "      quickchartButtonEl.classList.add('colab-df-spinner');\n",
              "      try {\n",
              "        const charts = await google.colab.kernel.invokeFunction(\n",
              "            'suggestCharts', [key], {});\n",
              "      } catch (error) {\n",
              "        console.error('Error during call to suggestCharts:', error);\n",
              "      }\n",
              "      quickchartButtonEl.classList.remove('colab-df-spinner');\n",
              "      quickchartButtonEl.classList.add('colab-df-quickchart-complete');\n",
              "    }\n",
              "    (() => {\n",
              "      let quickchartButtonEl =\n",
              "        document.querySelector('#df-16d16bc6-b7ed-4e45-bdeb-be0c15fedbd3 button');\n",
              "      quickchartButtonEl.style.display =\n",
              "        google.colab.kernel.accessAllowed ? 'block' : 'none';\n",
              "    })();\n",
              "  </script>\n",
              "</div>\n",
              "\n",
              "    </div>\n",
              "  </div>\n"
            ],
            "application/vnd.google.colaboratory.intrinsic+json": {
              "type": "dataframe",
              "variable_name": "df_all",
              "summary": "{\n  \"name\": \"df_all\",\n  \"rows\": 1957,\n  \"fields\": [\n    {\n      \"column\": \"id\",\n      \"properties\": {\n        \"dtype\": \"number\",\n        \"std\": 567,\n        \"min\": 1,\n        \"max\": 1964,\n        \"num_unique_values\": 1957,\n        \"samples\": [\n          1368,\n          1878,\n          1671\n        ],\n        \"semantic_type\": \"\",\n        \"description\": \"\"\n      }\n    },\n    {\n      \"column\": \"date_short\",\n      \"properties\": {\n        \"dtype\": \"object\",\n        \"num_unique_values\": 617,\n        \"samples\": [\n          \"10/15/1990\",\n          \"6/20/2023\",\n          \"1/22/1992\"\n        ],\n        \"semantic_type\": \"\",\n        \"description\": \"\"\n      }\n    },\n    {\n      \"column\": \"party\",\n      \"properties\": {\n        \"dtype\": \"category\",\n        \"num_unique_values\": 14,\n        \"samples\": [\n          \"Plaid Cymru\",\n          \"Scottish National Party\",\n          \"Labour Party\"\n        ],\n        \"semantic_type\": \"\",\n        \"description\": \"\"\n      }\n    },\n    {\n      \"column\": \"party_2\",\n      \"properties\": {\n        \"dtype\": \"category\",\n        \"num_unique_values\": 3,\n        \"samples\": [\n          \"labour\",\n          \"conservative\",\n          \"Others\"\n        ],\n        \"semantic_type\": \"\",\n        \"description\": \"\"\n      }\n    },\n    {\n      \"column\": \"name\",\n      \"properties\": {\n        \"dtype\": \"category\",\n        \"num_unique_values\": 515,\n        \"samples\": [\n          \"The Minister for Small Business and E-Commerce (Ms Patricia Hewitt)\",\n          \"Andrew Griffith\",\n          \"Tim Boswell\"\n        ],\n        \"semantic_type\": \"\",\n        \"description\": \"\"\n      }\n    },\n    {\n      \"column\": \"sents\",\n      \"properties\": {\n        \"dtype\": \"string\",\n        \"num_unique_values\": 1957,\n        \"samples\": [\n          \"i must therefore look at his record in the context of high debt, his failure to make the bank of england independent, and the high inflation that he left us.  [interruption.] that rising inflation had to be met by rising interest rates when we came into government.on the right hon. very significant, it will surprise no one to know.\",\n          \"i have tasked the treasury with preparing a comprehensive economic response to support the economy if needed, and will work closely with the independent bank of england to co-ordinate fiscal and monetary policy.sensible economic policy means that we should plan for both outcomes, and we are doing so, but we should be careful not to let our focus on planning and preparedness distract us from the opportunities that lie ahead. brexit will allow us to reshape the british economy and reaffirm our place as a world-leading economic power. gentleman should know that the bank of england is independent, and therefore monetary policy decisions are independent.\",\n          \"the concept of independent central banks has been implemented and will be important in the uk as the economy recovers and we get back to inflation. we have nothing comparable for fiscal policy apart from the rules, which have been widely disregarded. but it was not the americans who allowed mortgages of 125 per cent.\"\n        ],\n        \"semantic_type\": \"\",\n        \"description\": \"\"\n      }\n    }\n  ]\n}"
            }
          },
          "metadata": {},
          "execution_count": 7
        }
      ]
    },
    {
      "cell_type": "markdown",
      "source": [
        "We can also tabulate the frequency by different groups. This will show us how frequently different parties discuss central bank independence"
      ],
      "metadata": {
        "id": "IdfwebFAGtKc"
      }
    },
    {
      "cell_type": "code",
      "source": [
        "df_all.groupby(\"party_2\")[\"id\"].count()"
      ],
      "metadata": {
        "colab": {
          "base_uri": "https://localhost:8080/",
          "height": 229
        },
        "id": "7t_QOe4eGqYl",
        "outputId": "8027ff36-de47-44bc-eed2-8604f6f15d9a"
      },
      "execution_count": 8,
      "outputs": [
        {
          "output_type": "execute_result",
          "data": {
            "text/plain": [
              "party_2\n",
              "Others          237\n",
              "conservative    818\n",
              "labour          902\n",
              "Name: id, dtype: int64"
            ],
            "text/html": [
              "<div>\n",
              "<style scoped>\n",
              "    .dataframe tbody tr th:only-of-type {\n",
              "        vertical-align: middle;\n",
              "    }\n",
              "\n",
              "    .dataframe tbody tr th {\n",
              "        vertical-align: top;\n",
              "    }\n",
              "\n",
              "    .dataframe thead th {\n",
              "        text-align: right;\n",
              "    }\n",
              "</style>\n",
              "<table border=\"1\" class=\"dataframe\">\n",
              "  <thead>\n",
              "    <tr style=\"text-align: right;\">\n",
              "      <th></th>\n",
              "      <th>id</th>\n",
              "    </tr>\n",
              "    <tr>\n",
              "      <th>party_2</th>\n",
              "      <th></th>\n",
              "    </tr>\n",
              "  </thead>\n",
              "  <tbody>\n",
              "    <tr>\n",
              "      <th>Others</th>\n",
              "      <td>237</td>\n",
              "    </tr>\n",
              "    <tr>\n",
              "      <th>conservative</th>\n",
              "      <td>818</td>\n",
              "    </tr>\n",
              "    <tr>\n",
              "      <th>labour</th>\n",
              "      <td>902</td>\n",
              "    </tr>\n",
              "  </tbody>\n",
              "</table>\n",
              "</div><br><label><b>dtype:</b> int64</label>"
            ]
          },
          "metadata": {},
          "execution_count": 8
        }
      ]
    },
    {
      "cell_type": "markdown",
      "source": [
        "Finally, let us examine the extent to which the salience of the topic has changed in time"
      ],
      "metadata": {
        "id": "UciMEMKBGxj6"
      }
    },
    {
      "cell_type": "code",
      "source": [
        "# Pre-process the data to convert the year\n",
        "df_all[\"date_short\"] = pd.to_datetime(df_all[\"date_short\"])"
      ],
      "metadata": {
        "id": "ty_v1dEIGwA3"
      },
      "execution_count": 9,
      "outputs": []
    },
    {
      "cell_type": "code",
      "source": [
        "df_all[\"year\"] = df_all[\"date_short\"].dt.year"
      ],
      "metadata": {
        "id": "lDmV3TTYHJ0D"
      },
      "execution_count": 10,
      "outputs": []
    },
    {
      "cell_type": "code",
      "source": [
        "g1 = df_all.groupby([\"year\", \"party_2\"], as_index=False).count()"
      ],
      "metadata": {
        "id": "Ss90JlI7HObP"
      },
      "execution_count": 11,
      "outputs": []
    },
    {
      "cell_type": "code",
      "source": [
        "# Colour-code the data\n",
        "\n",
        "custom_palette = {\n",
        "    \"labour\": \"red\",\n",
        "    \"conservative\": \"blue\",\n",
        "    \"Others\": \"yellow\"\n",
        "}"
      ],
      "metadata": {
        "id": "F9hw_QjnHR1t"
      },
      "execution_count": 12,
      "outputs": []
    },
    {
      "cell_type": "code",
      "source": [
        "plt.figure(figsize=(10, 6))\n",
        "sns.lineplot(data=g1, x=\"year\", y=\"sents\", hue=\"party_2\", marker=\"o\", palette=custom_palette)\n",
        "\n",
        "plt.title(\"Frequency of parliamentary interventions on central bank independence (UK House of Commons, 1970-2023)\")\n",
        "plt.ylabel(\"Counts\")\n",
        "plt.xlabel(\"Years\")"
      ],
      "metadata": {
        "colab": {
          "base_uri": "https://localhost:8080/",
          "height": 601
        },
        "id": "Tect7bHmHUM4",
        "outputId": "3ab32e11-5ca6-4d92-da41-0f6fe5cac19b"
      },
      "execution_count": 13,
      "outputs": [
        {
          "output_type": "execute_result",
          "data": {
            "text/plain": [
              "Text(0.5, 0, 'Years')"
            ]
          },
          "metadata": {},
          "execution_count": 13
        },
        {
          "output_type": "display_data",
          "data": {
            "text/plain": [
              "<Figure size 1000x600 with 1 Axes>"
            ],
            "image/png": "[encoded data removed]"
          },
          "metadata": {}
        }
      ]
    },
    {
      "cell_type": "markdown",
      "source": [
        "## Inter-coder reliability\n",
        "\n",
        "Now, that we have developed a better feeling for the data, let us use the tools that we have discussed in the paper to examine how discussions on central bank independence have changed in time.\n",
        "\n",
        "To do this, 2 researchers have annotated a sample of 150 parliamentary interventions discussing central bank independence. This corresponds to 7.5% of the entire dataset. The researchers have divided parliamentary interventions on this topic into the following categories:\n",
        "\n",
        "1. Pro-independence\n",
        "2. Anti-independence\n",
        "3. Unrelated\n",
        "\n",
        "Before delving into automated classification techniques and NLP let us first examine the level of agreement between the two coders on the sample.\n",
        "\n",
        "Importantly, the two coders have not seen each others' text classification. This is important as we want to ensure that coders label the texts *independently*."
      ],
      "metadata": {
        "id": "lmfQ51rNHa4j"
      }
    },
    {
      "cell_type": "code",
      "source": [
        "df_cbi = pd.read_csv(\"https://raw.githubusercontent.com/joshcova/LLMs-for-social-scientists/main/data/uk_cbi_sample.csv\")"
      ],
      "metadata": {
        "id": "b80M5WwCHX4o"
      },
      "execution_count": 14,
      "outputs": []
    },
    {
      "cell_type": "code",
      "source": [
        "df_cbi.groupby(\"results_1\")[\"results_1\"].count()"
      ],
      "metadata": {
        "colab": {
          "base_uri": "https://localhost:8080/",
          "height": 229
        },
        "id": "wHHNsINoHjb-",
        "outputId": "5a954f1f-6fd7-4318-8e20-6dac735ff6ac"
      },
      "execution_count": 15,
      "outputs": [
        {
          "output_type": "execute_result",
          "data": {
            "text/plain": [
              "results_1\n",
              "Anti-independence    10\n",
              "Pro-independence     85\n",
              "Unrelated            55\n",
              "Name: results_1, dtype: int64"
            ],
            "text/html": [
              "<div>\n",
              "<style scoped>\n",
              "    .dataframe tbody tr th:only-of-type {\n",
              "        vertical-align: middle;\n",
              "    }\n",
              "\n",
              "    .dataframe tbody tr th {\n",
              "        vertical-align: top;\n",
              "    }\n",
              "\n",
              "    .dataframe thead th {\n",
              "        text-align: right;\n",
              "    }\n",
              "</style>\n",
              "<table border=\"1\" class=\"dataframe\">\n",
              "  <thead>\n",
              "    <tr style=\"text-align: right;\">\n",
              "      <th></th>\n",
              "      <th>results_1</th>\n",
              "    </tr>\n",
              "    <tr>\n",
              "      <th>results_1</th>\n",
              "      <th></th>\n",
              "    </tr>\n",
              "  </thead>\n",
              "  <tbody>\n",
              "    <tr>\n",
              "      <th>Anti-independence</th>\n",
              "      <td>10</td>\n",
              "    </tr>\n",
              "    <tr>\n",
              "      <th>Pro-independence</th>\n",
              "      <td>85</td>\n",
              "    </tr>\n",
              "    <tr>\n",
              "      <th>Unrelated</th>\n",
              "      <td>55</td>\n",
              "    </tr>\n",
              "  </tbody>\n",
              "</table>\n",
              "</div><br><label><b>dtype:</b> int64</label>"
            ]
          },
          "metadata": {},
          "execution_count": 15
        }
      ]
    },
    {
      "cell_type": "code",
      "source": [
        "df_cbi.groupby(\"results_2\")[\"results_2\"].count()"
      ],
      "metadata": {
        "colab": {
          "base_uri": "https://localhost:8080/",
          "height": 229
        },
        "id": "zr8XJ4RYHmjj",
        "outputId": "f70ceb38-d4ee-46ce-a357-d7d3bb2e3d71"
      },
      "execution_count": 16,
      "outputs": [
        {
          "output_type": "execute_result",
          "data": {
            "text/plain": [
              "results_2\n",
              "Anti-independence    11\n",
              "Pro-independence     83\n",
              "Unrelated            56\n",
              "Name: results_2, dtype: int64"
            ],
            "text/html": [
              "<div>\n",
              "<style scoped>\n",
              "    .dataframe tbody tr th:only-of-type {\n",
              "        vertical-align: middle;\n",
              "    }\n",
              "\n",
              "    .dataframe tbody tr th {\n",
              "        vertical-align: top;\n",
              "    }\n",
              "\n",
              "    .dataframe thead th {\n",
              "        text-align: right;\n",
              "    }\n",
              "</style>\n",
              "<table border=\"1\" class=\"dataframe\">\n",
              "  <thead>\n",
              "    <tr style=\"text-align: right;\">\n",
              "      <th></th>\n",
              "      <th>results_2</th>\n",
              "    </tr>\n",
              "    <tr>\n",
              "      <th>results_2</th>\n",
              "      <th></th>\n",
              "    </tr>\n",
              "  </thead>\n",
              "  <tbody>\n",
              "    <tr>\n",
              "      <th>Anti-independence</th>\n",
              "      <td>11</td>\n",
              "    </tr>\n",
              "    <tr>\n",
              "      <th>Pro-independence</th>\n",
              "      <td>83</td>\n",
              "    </tr>\n",
              "    <tr>\n",
              "      <th>Unrelated</th>\n",
              "      <td>56</td>\n",
              "    </tr>\n",
              "  </tbody>\n",
              "</table>\n",
              "</div><br><label><b>dtype:</b> int64</label>"
            ]
          },
          "metadata": {},
          "execution_count": 16
        }
      ]
    },
    {
      "cell_type": "markdown",
      "source": [
        "We now focus only on one data frame with the results of the two coders side by side. This will allow us to quantify the levels of agreement"
      ],
      "metadata": {
        "id": "iMlTDiPAH8tb"
      }
    },
    {
      "cell_type": "code",
      "source": [
        "results = df_cbi[[\"results_1\",\"results_2\"]]"
      ],
      "metadata": {
        "id": "8egKU2ZIH5rL"
      },
      "execution_count": 18,
      "outputs": []
    },
    {
      "cell_type": "code",
      "source": [
        "kappa = cohen_kappa_score(results[\"results_1\"], results[\"results_2\"])\n",
        "print(f\"Cohen's Kappa: {kappa:.2f}\")"
      ],
      "metadata": {
        "colab": {
          "base_uri": "https://localhost:8080/"
        },
        "id": "p9XFnzZeIA1P",
        "outputId": "48535cac-b595-4545-aa4c-0101cc406f26"
      },
      "execution_count": 20,
      "outputs": [
        {
          "output_type": "stream",
          "name": "stdout",
          "text": [
            "Cohen's Kappa: 0.94\n"
          ]
        }
      ]
    },
    {
      "cell_type": "code",
      "source": [
        "categories = {category: idx for idx, category in enumerate(results.stack().unique())}\n",
        "print(f\"Category Mapping: {categories}\")\n",
        "\n",
        "df_encoded = results.replace(categories)\n",
        "\n",
        "# Reformat data for Krippendorff's alpha\n",
        "ratings = df_encoded.T.values  # Transpose to align with Krippendorff's format"
      ],
      "metadata": {
        "colab": {
          "base_uri": "https://localhost:8080/"
        },
        "id": "RZ8kN3zoIH_h",
        "outputId": "45c0fb66-95a8-4fdd-8ee2-eb031f223755"
      },
      "execution_count": 21,
      "outputs": [
        {
          "output_type": "stream",
          "name": "stdout",
          "text": [
            "Category Mapping: {'Pro-independence': 0, 'Unrelated': 1, 'Anti-independence': 2}\n"
          ]
        },
        {
          "output_type": "stream",
          "name": "stderr",
          "text": [
            "<ipython-input-21-7e675252d105>:4: FutureWarning: Downcasting behavior in `replace` is deprecated and will be removed in a future version. To retain the old behavior, explicitly call `result.infer_objects(copy=False)`. To opt-in to the future behavior, set `pd.set_option('future.no_silent_downcasting', True)`\n",
            "  df_encoded = results.replace(categories)\n"
          ]
        }
      ]
    },
    {
      "cell_type": "code",
      "source": [
        "alpha = krippendorff.alpha(reliability_data=ratings, level_of_measurement='nominal')\n",
        "print(alpha)"
      ],
      "metadata": {
        "colab": {
          "base_uri": "https://localhost:8080/"
        },
        "id": "G4x-eTmEIKlf",
        "outputId": "0c3b1093-6d30-4f10-b12f-9550c2e2fc6b"
      },
      "execution_count": 22,
      "outputs": [
        {
          "output_type": "stream",
          "name": "stdout",
          "text": [
            "0.938997021259232\n"
          ]
        }
      ]
    },
    {
      "cell_type": "markdown",
      "source": [
        "As one can see, the level of agreement between the two coders is quite high.\n",
        "\n",
        "In a real-life research exercise, this might not be the case. In that case it is customary to go back to the drawing board and possibly revise the coding scheme.\n",
        "\n",
        "In cases where the two coders disagreed with one another on the correct labeling of the text, they would discuss and reach an agreement. Ultimately, the objective is to have one and only one label per text.\n",
        "\n",
        "However, for the purposes of this exercise let us just establish that the results of coder 1 (\"results_1\" column) can act as the ground truth."
      ],
      "metadata": {
        "id": "76cDc_97IOXt"
      }
    }
  ]
}